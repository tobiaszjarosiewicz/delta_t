{
 "cells": [
  {
   "cell_type": "code",
   "execution_count": null,
   "metadata": {},
   "outputs": [],
   "source": [
    "import matplotlib.pyplot as plt\n",
    "import numpy as np"
   ]
  },
  {
   "cell_type": "code",
   "execution_count": null,
   "metadata": {},
   "outputs": [],
   "source": [
    "with open('delta.dat', 'r') as f:\n",
    "     data = f.readlines()"
   ]
  },
  {
   "cell_type": "code",
   "execution_count": null,
   "metadata": {},
   "outputs": [],
   "source": [
    "lag = 0\n",
    "delta = 0\n",
    "plot_i = []\n",
    "plot_lag = []\n",
    "plot_delta = []\n",
    "plot_extrapol = []\n",
    "plot_wind = []\n",
    "for i, line in enumerate(data):\n",
    "    dvalues = line.split()\n",
    "    if len(dvalues) > 2 and dvalues[1].strip('-').strip('+').isnumeric() == True:\n",
    "        #print(dvalues)\n",
    "        lag = dvalues[1].strip('+?').lstrip('?')\n",
    "        delta = dvalues[2].strip('+').lstrip('?')\n",
    "        #print(i, lag, delta)\n",
    "        plot_i.append(i)\n",
    "        plot_lag.append(lag)\n",
    "        plot_delta.append(delta)\n",
    "        if len(dvalues) > 4:\n",
    "            #print(dvalues)\n",
    "            plot_extrapol.append(1)\n",
    "        else:\n",
    "            plot_extrapol.append(0)\n",
    "        if dvalues[3] == \"+\":\n",
    "            plot_wind.append(-1)\n",
    "        elif dvalues[3] == \"++\":\n",
    "            plot_wind.append(1)\n",
    "        elif dvalues[3] == \"+/-\":\n",
    "            plot_wind.append(-3)"
   ]
  },
  {
   "cell_type": "code",
   "execution_count": null,
   "metadata": {},
   "outputs": [],
   "source": [
    "# Differentiate for measured and extrapolated data:\n",
    "plot_lag_true = []\n",
    "plot_lag_xtpl = []\n",
    "plot_delta_true = []\n",
    "plot_delta_xtpl = []\n",
    "plot_i_true = []\n",
    "plot_i_xtpl = []\n",
    "for i in range(len(plot_i)):\n",
    "    #print(plot_i[i], plot_lag[i], plot_extrapol[i])\n",
    "    if plot_extrapol[i] == 0:\n",
    "        plot_lag_true.append(plot_lag[i])\n",
    "        plot_delta_true.append(plot_delta[i])\n",
    "        plot_i_true.append(plot_i[i])\n",
    "    elif plot_extrapol[i] == 1:\n",
    "        plot_lag_xtpl.append(plot_lag[i])\n",
    "        plot_delta_xtpl.append(plot_delta[i])\n",
    "        plot_i_xtpl.append(plot_i[i])"
   ]
  },
  {
   "cell_type": "code",
   "execution_count": null,
   "metadata": {},
   "outputs": [],
   "source": [
    "# Convert lists to numpy arrays\n",
    "plot_i = np.asarray(plot_i)\n",
    "plot_i = plot_i.astype(np.int64)\n",
    "plot_lag = np.asarray(plot_lag)\n",
    "plot_lag = plot_lag.astype(np.int64)\n",
    "plot_delta = np.asarray(plot_delta)\n",
    "plot_delta = plot_delta.astype(np.int64)\n",
    "plot_zero = np.zeros(len(plot_delta), dtype=np.int64)\n",
    "plot_lag_true = np.asanyarray(plot_lag_true, dtype=np.int64)\n",
    "plot_lag_xtpl = np.asanyarray(plot_lag_xtpl, dtype=np.int64)\n",
    "plot_i_true = np.asanyarray(plot_i_true, dtype=np.int64)\n",
    "plot_i_xtpl = np.asanyarray(plot_i_xtpl, dtype=np.int64)\n",
    "plot_delta_true = np.asanyarray(plot_delta_true, dtype=np.int64)\n",
    "plot_delta_xtpl = np.asanyarray(plot_delta_xtpl, dtype=np.int64)\n",
    "plot_wind = np.asanyarray(plot_wind, dtype=np.int64)"
   ]
  },
  {
   "cell_type": "code",
   "execution_count": null,
   "metadata": {},
   "outputs": [],
   "source": [
    "plt.rcParams['figure.figsize'] = [8, 8]\n",
    "plt.plot(plot_i, plot_lag, label='cumulative lag')\n",
    "plt.plot(plot_i_true, plot_lag_true, label='measured',color='royalblue', marker='o', linewidth=0)\n",
    "plt.plot(plot_i_xtpl, plot_lag_xtpl, label='extrapolated',color='royalblue', marker='x', linewidth=0)\n",
    "plt.plot(plot_i, plot_zero, color='black', linestyle='dashed', linewidth=2)\n",
    "plt.plot(plot_i, plot_wind, label='winding', color='green', marker='.', linewidth=0)\n",
    "# Manually added timestamp for reset:\n",
    "plt.axvline(x=45.5, linewidth=1, color='b', label='reset to 0')\n",
    "plt.axvline(x=93.5, linewidth=1, color='b')\n",
    "plt.axvline(x=97.5, linewidth=1, color='b')\n",
    "plt.ylabel('[s]')\n",
    "plt.xlabel('[n]')\n",
    "plt.legend()\n",
    "plt.grid(True)\n",
    "plt.show()"
   ]
  },
  {
   "cell_type": "code",
   "execution_count": null,
   "metadata": {},
   "outputs": [],
   "source": [
    "plt.rcParams['figure.figsize'] = [8, 8]\n",
    "plt.plot(plot_i, plot_delta, label='daily delta t')\n",
    "plt.plot(plot_i, plot_zero, color='black', linestyle='dashed', linewidth=2)\n",
    "plt.plot(plot_i_true, plot_delta_true, label='measured',color='royalblue', marker='o', linewidth=0)\n",
    "plt.plot(plot_i_xtpl, plot_delta_xtpl, label='extrapolated',color='royalblue', marker='x', linewidth=0)\n",
    "plt.plot(plot_i, plot_wind, label='winding', color='green', marker='.', linewidth=0)\n",
    "# Manually added timestamp for reset:\n",
    "plt.axvline(x=45.5, linewidth=1, color='b', label='reset to 0')\n",
    "plt.axvline(x=93.5, linewidth=1, color='b')\n",
    "plt.axvline(x=97.5, linewidth=1, color='b')\n",
    "plt.ylabel('[s]')\n",
    "plt.xlabel('[n]')\n",
    "plt.legend()\n",
    "plt.grid(True)\n",
    "plt.show()"
   ]
  },
  {
   "cell_type": "code",
   "execution_count": null,
   "metadata": {},
   "outputs": [],
   "source": [
    "deriv = np.gradient(plot_lag)"
   ]
  },
  {
   "cell_type": "code",
   "execution_count": null,
   "metadata": {},
   "outputs": [],
   "source": [
    "plt.rcParams['figure.figsize'] = [8, 8]\n",
    "plt.plot(plot_i, plot_delta, label='daily delta t', marker='o')\n",
    "plt.plot(plot_i, deriv, label='gradient')\n",
    "plt.ylabel('[s]')\n",
    "plt.xlabel('[n]')\n",
    "plt.legend()\n",
    "plt.title(\"Gradient of cumulative lag matching delta t.\")\n",
    "plt.grid(True)\n",
    "plt.show()"
   ]
  }
 ],
 "metadata": {
  "kernelspec": {
   "display_name": "Python 3",
   "language": "python",
   "name": "python3"
  },
  "language_info": {
   "codemirror_mode": {
    "name": "ipython",
    "version": 3
   },
   "file_extension": ".py",
   "mimetype": "text/x-python",
   "name": "python",
   "nbconvert_exporter": "python",
   "pygments_lexer": "ipython3",
   "version": "3.6.8"
  }
 },
 "nbformat": 4,
 "nbformat_minor": 2
}
